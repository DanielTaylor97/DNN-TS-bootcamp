{
  "nbformat": 4,
  "nbformat_minor": 0,
  "metadata": {
    "colab": {
      "name": "tryPytorch.ipynb",
      "provenance": [],
      "collapsed_sections": [],
      "authorship_tag": "ABX9TyM3CrnPeWMGNeAHXSLgGjiv",
      "include_colab_link": true
    },
    "kernelspec": {
      "name": "python3",
      "display_name": "Python 3"
    },
    "language_info": {
      "name": "python"
    }
  },
  "cells": [
    {
      "cell_type": "markdown",
      "metadata": {
        "id": "view-in-github",
        "colab_type": "text"
      },
      "source": [
        "<a href=\"https://colab.research.google.com/github/DanielTaylor97/DNN-TS-bootcamp/blob/main/tryPytorchMLP.ipynb\" target=\"_parent\"><img src=\"https://colab.research.google.com/assets/colab-badge.svg\" alt=\"Open In Colab\"/></a>"
      ]
    },
    {
      "cell_type": "code",
      "metadata": {
        "id": "jPIUe4jL_Xwi"
      },
      "source": [
        "#!pip install pytorch-lightning"
      ],
      "execution_count": null,
      "outputs": []
    },
    {
      "cell_type": "code",
      "metadata": {
        "id": "VmUMzA3Wo3_G"
      },
      "source": [
        "from __future__ import division\n",
        "import pytorch_lightning as pl\n",
        "import torch\n",
        "from torch import nn\n",
        "from torch.utils.data import TensorDataset, DataLoader\n",
        "from torchvision import datasets\n",
        "from torchvision.transforms import ToTensor, Lambda, Compose\n",
        "import matplotlib.pyplot as plt\n",
        "import numpy as np"
      ],
      "execution_count": null,
      "outputs": []
    },
    {
      "cell_type": "markdown",
      "metadata": {
        "id": "ifza2pHur4cs"
      },
      "source": [
        "## Create Sine Wave Data"
      ]
    },
    {
      "cell_type": "code",
      "metadata": {
        "id": "MMknZqVUsCzl"
      },
      "source": [
        "def generate_time_series(batch_size, n_steps, freq_scale = 10):\n",
        "  freq, offset = np.random.rand(2, batch_size, 1)\n",
        "  t = np.linspace(0, 1, n_steps)\n",
        "  signals = np.sin((t - offset)*(freq*freq_scale + freq_scale))\n",
        "  signals += 0.1*(np.random.rand(batch_size, n_steps) - 0.5)\n",
        "\n",
        "  return signals.astype(np.float32)"
      ],
      "execution_count": null,
      "outputs": []
    },
    {
      "cell_type": "markdown",
      "metadata": {
        "id": "0Qu-Ayve-RQr"
      },
      "source": [
        "## Create Training, Validation and Test Sets from Data"
      ]
    },
    {
      "cell_type": "code",
      "metadata": {
        "id": "61NoOIXZ-Qja"
      },
      "source": [
        "n_steps = 100\n",
        "n_predictions = 20\n",
        "hidden_features = 30\n",
        "total = 10000\n",
        "\n",
        "series = generate_time_series(total, n_steps + n_predictions)\n",
        "\n",
        "X_train = torch.Tensor(series[:int(0.7*total), :n_steps])\n",
        "y_train = torch.Tensor(series[:int(0.7*total), n_steps:])\n",
        "\n",
        "X_valid = torch.Tensor(series[int(0.7*total):int(0.9*total), :n_steps])\n",
        "y_valid = torch.Tensor(series[int(0.7*total):int(0.9*total), n_steps:])\n",
        "\n",
        "X_test = torch.Tensor(series[int(0.9*total):, :n_steps])\n",
        "y_test = torch.Tensor(series[int(0.9*total):, n_steps:])\n",
        "\n",
        "training_data = TensorDataset(X_train, y_train)\n",
        "valid_data = TensorDataset(X_valid, y_valid)\n",
        "test_data = TensorDataset(X_test, y_test)"
      ],
      "execution_count": null,
      "outputs": []
    },
    {
      "cell_type": "markdown",
      "metadata": {
        "id": "fT_phG-QtD-Z"
      },
      "source": [
        "## Configuring Data Loader"
      ]
    },
    {
      "cell_type": "code",
      "metadata": {
        "id": "czeZ4n-1tIRd",
        "colab": {
          "base_uri": "https://localhost:8080/"
        },
        "outputId": "6277c3b1-a519-47aa-8915-b48dea00dbd8"
      },
      "source": [
        "batch_size = 64\n",
        "\n",
        "train_dataloader = DataLoader(training_data, batch_size=batch_size, shuffle=True)\n",
        "test_dataloader = DataLoader(test_data, batch_size=batch_size, shuffle=True)\n",
        "\n",
        "for X, y in test_dataloader:\n",
        "  print('Shape of X [N, C, H, W]: {}'.format(X.shape))\n",
        "  print('Shape of y: {} {}'.format(y.shape, y.dtype))"
      ],
      "execution_count": null,
      "outputs": [
        {
          "output_type": "stream",
          "text": [
            "Shape of X [N, C, H, W]: torch.Size([64, 100])\n",
            "Shape of y: torch.Size([64, 20]) torch.float32\n",
            "Shape of X [N, C, H, W]: torch.Size([64, 100])\n",
            "Shape of y: torch.Size([64, 20]) torch.float32\n",
            "Shape of X [N, C, H, W]: torch.Size([64, 100])\n",
            "Shape of y: torch.Size([64, 20]) torch.float32\n",
            "Shape of X [N, C, H, W]: torch.Size([64, 100])\n",
            "Shape of y: torch.Size([64, 20]) torch.float32\n",
            "Shape of X [N, C, H, W]: torch.Size([64, 100])\n",
            "Shape of y: torch.Size([64, 20]) torch.float32\n",
            "Shape of X [N, C, H, W]: torch.Size([64, 100])\n",
            "Shape of y: torch.Size([64, 20]) torch.float32\n",
            "Shape of X [N, C, H, W]: torch.Size([64, 100])\n",
            "Shape of y: torch.Size([64, 20]) torch.float32\n",
            "Shape of X [N, C, H, W]: torch.Size([64, 100])\n",
            "Shape of y: torch.Size([64, 20]) torch.float32\n",
            "Shape of X [N, C, H, W]: torch.Size([64, 100])\n",
            "Shape of y: torch.Size([64, 20]) torch.float32\n",
            "Shape of X [N, C, H, W]: torch.Size([64, 100])\n",
            "Shape of y: torch.Size([64, 20]) torch.float32\n",
            "Shape of X [N, C, H, W]: torch.Size([64, 100])\n",
            "Shape of y: torch.Size([64, 20]) torch.float32\n",
            "Shape of X [N, C, H, W]: torch.Size([64, 100])\n",
            "Shape of y: torch.Size([64, 20]) torch.float32\n",
            "Shape of X [N, C, H, W]: torch.Size([64, 100])\n",
            "Shape of y: torch.Size([64, 20]) torch.float32\n",
            "Shape of X [N, C, H, W]: torch.Size([64, 100])\n",
            "Shape of y: torch.Size([64, 20]) torch.float32\n",
            "Shape of X [N, C, H, W]: torch.Size([64, 100])\n",
            "Shape of y: torch.Size([64, 20]) torch.float32\n",
            "Shape of X [N, C, H, W]: torch.Size([40, 100])\n",
            "Shape of y: torch.Size([40, 20]) torch.float32\n"
          ],
          "name": "stdout"
        }
      ]
    },
    {
      "cell_type": "markdown",
      "metadata": {
        "id": "HjV-_rnN0f4l"
      },
      "source": [
        "## Create Model"
      ]
    },
    {
      "cell_type": "code",
      "metadata": {
        "colab": {
          "base_uri": "https://localhost:8080/"
        },
        "id": "FvX21T8B0mpr",
        "outputId": "3276075c-c22a-4f59-863b-c2d99b1daa99"
      },
      "source": [
        "device = 'cuda' if torch.cuda.is_available() else 'cpu'\n",
        "print('Using {} device.'.format(device))\n",
        "\n",
        "class MLP(nn.Module):\n",
        "  def __init__(self, window_size, hidden_size, output_size):\n",
        "    super(MLP, self).__init__()\n",
        "    '''self.linear_stack = nn.Sequential(nn.Linear(window_size, hidden_size),\n",
        "                                      nn.ReLU(),\n",
        "                                      nn.Linear(hidden_size, output_size),\n",
        "                                      )'''\n",
        "    self.first_linear = nn.Linear(window_size, hidden_size)\n",
        "    self.relu = nn.ReLU()\n",
        "    self.second_linear = nn.Linear(hidden_size, output_size)\n",
        "\n",
        "  def forward(self, x):\n",
        "    #logits = self.linear_stack(x)\n",
        "    next = self.first_linear(x)\n",
        "    next = self.relu(next)\n",
        "    out = self.second_linear(next)\n",
        "    return out\n",
        "\n",
        "model = MLP(n_steps, hidden_features, n_predictions).to(device)\n",
        "print(model)"
      ],
      "execution_count": null,
      "outputs": [
        {
          "output_type": "stream",
          "text": [
            "Using cpu device.\n",
            "MLP(\n",
            "  (first_linear): Linear(in_features=100, out_features=30, bias=True)\n",
            "  (relu): ReLU()\n",
            "  (second_linear): Linear(in_features=30, out_features=20, bias=True)\n",
            ")\n"
          ],
          "name": "stdout"
        }
      ]
    },
    {
      "cell_type": "markdown",
      "metadata": {
        "id": "rTGz7RoI241v"
      },
      "source": [
        "## Configuring Model Parameters"
      ]
    },
    {
      "cell_type": "code",
      "metadata": {
        "id": "TMuchDDd2956"
      },
      "source": [
        "loss_fn = nn.MSELoss()\n",
        "optimiser = torch.optim.Adam(model.parameters(), lr=1e-5)"
      ],
      "execution_count": null,
      "outputs": []
    },
    {
      "cell_type": "markdown",
      "metadata": {
        "id": "W-XVHEK7_Ems"
      },
      "source": [
        "## Define Training Function"
      ]
    },
    {
      "cell_type": "code",
      "metadata": {
        "id": "YftzZdJZ9Egw"
      },
      "source": [
        "def train(dataloader, model, loss_fn, optimiser):\n",
        "  size = len(dataloader.dataset)\n",
        "  for batch, (X, y) in enumerate(dataloader):\n",
        "    X, y = X.to(device), y.to(device)\n",
        "\n",
        "    pred = model(X)\n",
        "    loss = loss_fn(pred, y)\n",
        "\n",
        "    optimiser.zero_grad()\n",
        "    loss.backward()\n",
        "    optimiser.step()\n",
        "\n",
        "    '''if batch % 10 == 0:\n",
        "      loss, current = loss.item(), batch*len(X)\n",
        "      print(f'Loss: {loss:>7f} [{current:>5d}/{size:>5d}]')'''"
      ],
      "execution_count": null,
      "outputs": []
    },
    {
      "cell_type": "markdown",
      "metadata": {
        "id": "Exr-5qAE_JcC"
      },
      "source": [
        "## Define Testing Function"
      ]
    },
    {
      "cell_type": "code",
      "metadata": {
        "id": "vYcnaa1u_RML"
      },
      "source": [
        "def test(dataloader, model, loss_fn):\n",
        "  size = len(dataloader.dataset)\n",
        "  num_batches = len(dataloader)\n",
        "  model.eval()\n",
        "  test_loss, correct = 0, 0\n",
        "\n",
        "  with torch.no_grad():\n",
        "    for X, y in dataloader:\n",
        "      X, y = X.to(device), y.to(device)\n",
        "      pred = model(X)\n",
        "      test_loss += loss_fn(pred, y).item()\n",
        "      #correct += (pred.argmax(1) == y).type(torch.float).sum().item()\n",
        "  \n",
        "  test_loss /= num_batches\n",
        "  #correct /= size\n",
        "\n",
        "  #print(f'Test error: \\n Accuracy: {100*correct:>0.1f}%, Avg Loss: {test_loss:>8f} \\n')\n",
        "  print(f'Test error: Avg MSE: {test_loss:>8f} \\n\\n')"
      ],
      "execution_count": null,
      "outputs": []
    },
    {
      "cell_type": "markdown",
      "metadata": {
        "id": "vbOfL7t7ClKW"
      },
      "source": [
        "## Train and Test Model"
      ]
    },
    {
      "cell_type": "code",
      "metadata": {
        "colab": {
          "base_uri": "https://localhost:8080/"
        },
        "id": "Gj2vZF9HCpKp",
        "outputId": "03b2cc19-1f51-4b7f-9af7-5b90216ebf4c"
      },
      "source": [
        "epochs = 100\n",
        "\n",
        "for t in range(epochs):\n",
        "  print(f'Epoch {t + 1}\\n-------------------------------')\n",
        "  train(train_dataloader, model, loss_fn, optimiser)\n",
        "  test(test_dataloader, model, loss_fn)\n",
        "print('Done!')"
      ],
      "execution_count": null,
      "outputs": [
        {
          "output_type": "stream",
          "text": [
            "Epoch 1\n",
            "-------------------------------\n",
            "Test error: Avg MSE: 0.015045 \n",
            "\n",
            "\n",
            "Epoch 2\n",
            "-------------------------------\n",
            "Test error: Avg MSE: 0.015026 \n",
            "\n",
            "\n",
            "Epoch 3\n",
            "-------------------------------\n",
            "Test error: Avg MSE: 0.014948 \n",
            "\n",
            "\n",
            "Epoch 4\n",
            "-------------------------------\n",
            "Test error: Avg MSE: 0.014685 \n",
            "\n",
            "\n",
            "Epoch 5\n",
            "-------------------------------\n",
            "Test error: Avg MSE: 0.014784 \n",
            "\n",
            "\n",
            "Epoch 6\n",
            "-------------------------------\n",
            "Test error: Avg MSE: 0.014645 \n",
            "\n",
            "\n",
            "Epoch 7\n",
            "-------------------------------\n",
            "Test error: Avg MSE: 0.014501 \n",
            "\n",
            "\n",
            "Epoch 8\n",
            "-------------------------------\n",
            "Test error: Avg MSE: 0.014406 \n",
            "\n",
            "\n",
            "Epoch 9\n",
            "-------------------------------\n",
            "Test error: Avg MSE: 0.014349 \n",
            "\n",
            "\n",
            "Epoch 10\n",
            "-------------------------------\n",
            "Test error: Avg MSE: 0.014309 \n",
            "\n",
            "\n",
            "Epoch 11\n",
            "-------------------------------\n",
            "Test error: Avg MSE: 0.014528 \n",
            "\n",
            "\n",
            "Epoch 12\n",
            "-------------------------------\n",
            "Test error: Avg MSE: 0.014134 \n",
            "\n",
            "\n",
            "Epoch 13\n",
            "-------------------------------\n",
            "Test error: Avg MSE: 0.014245 \n",
            "\n",
            "\n",
            "Epoch 14\n",
            "-------------------------------\n",
            "Test error: Avg MSE: 0.014009 \n",
            "\n",
            "\n",
            "Epoch 15\n",
            "-------------------------------\n",
            "Test error: Avg MSE: 0.013930 \n",
            "\n",
            "\n",
            "Epoch 16\n",
            "-------------------------------\n",
            "Test error: Avg MSE: 0.013773 \n",
            "\n",
            "\n",
            "Epoch 17\n",
            "-------------------------------\n",
            "Test error: Avg MSE: 0.013839 \n",
            "\n",
            "\n",
            "Epoch 18\n",
            "-------------------------------\n",
            "Test error: Avg MSE: 0.013688 \n",
            "\n",
            "\n",
            "Epoch 19\n",
            "-------------------------------\n",
            "Test error: Avg MSE: 0.013642 \n",
            "\n",
            "\n",
            "Epoch 20\n",
            "-------------------------------\n",
            "Test error: Avg MSE: 0.013525 \n",
            "\n",
            "\n",
            "Epoch 21\n",
            "-------------------------------\n",
            "Test error: Avg MSE: 0.013516 \n",
            "\n",
            "\n",
            "Epoch 22\n",
            "-------------------------------\n",
            "Test error: Avg MSE: 0.013390 \n",
            "\n",
            "\n",
            "Epoch 23\n",
            "-------------------------------\n",
            "Test error: Avg MSE: 0.013375 \n",
            "\n",
            "\n",
            "Epoch 24\n",
            "-------------------------------\n",
            "Test error: Avg MSE: 0.013267 \n",
            "\n",
            "\n",
            "Epoch 25\n",
            "-------------------------------\n",
            "Test error: Avg MSE: 0.013196 \n",
            "\n",
            "\n",
            "Epoch 26\n",
            "-------------------------------\n",
            "Test error: Avg MSE: 0.013192 \n",
            "\n",
            "\n",
            "Epoch 27\n",
            "-------------------------------\n",
            "Test error: Avg MSE: 0.013009 \n",
            "\n",
            "\n",
            "Epoch 28\n",
            "-------------------------------\n",
            "Test error: Avg MSE: 0.012905 \n",
            "\n",
            "\n",
            "Epoch 29\n",
            "-------------------------------\n",
            "Test error: Avg MSE: 0.012905 \n",
            "\n",
            "\n",
            "Epoch 30\n",
            "-------------------------------\n",
            "Test error: Avg MSE: 0.012764 \n",
            "\n",
            "\n",
            "Epoch 31\n",
            "-------------------------------\n",
            "Test error: Avg MSE: 0.012771 \n",
            "\n",
            "\n",
            "Epoch 32\n",
            "-------------------------------\n",
            "Test error: Avg MSE: 0.012582 \n",
            "\n",
            "\n",
            "Epoch 33\n",
            "-------------------------------\n",
            "Test error: Avg MSE: 0.012515 \n",
            "\n",
            "\n",
            "Epoch 34\n",
            "-------------------------------\n",
            "Test error: Avg MSE: 0.012531 \n",
            "\n",
            "\n",
            "Epoch 35\n",
            "-------------------------------\n",
            "Test error: Avg MSE: 0.012454 \n",
            "\n",
            "\n",
            "Epoch 36\n",
            "-------------------------------\n",
            "Test error: Avg MSE: 0.012367 \n",
            "\n",
            "\n",
            "Epoch 37\n",
            "-------------------------------\n",
            "Test error: Avg MSE: 0.012209 \n",
            "\n",
            "\n",
            "Epoch 38\n",
            "-------------------------------\n",
            "Test error: Avg MSE: 0.012211 \n",
            "\n",
            "\n",
            "Epoch 39\n",
            "-------------------------------\n",
            "Test error: Avg MSE: 0.012139 \n",
            "\n",
            "\n",
            "Epoch 40\n",
            "-------------------------------\n",
            "Test error: Avg MSE: 0.011928 \n",
            "\n",
            "\n",
            "Epoch 41\n",
            "-------------------------------\n",
            "Test error: Avg MSE: 0.011899 \n",
            "\n",
            "\n",
            "Epoch 42\n",
            "-------------------------------\n",
            "Test error: Avg MSE: 0.011913 \n",
            "\n",
            "\n",
            "Epoch 43\n",
            "-------------------------------\n",
            "Test error: Avg MSE: 0.011790 \n",
            "\n",
            "\n",
            "Epoch 44\n",
            "-------------------------------\n",
            "Test error: Avg MSE: 0.011774 \n",
            "\n",
            "\n",
            "Epoch 45\n",
            "-------------------------------\n",
            "Test error: Avg MSE: 0.011633 \n",
            "\n",
            "\n",
            "Epoch 46\n",
            "-------------------------------\n",
            "Test error: Avg MSE: 0.011601 \n",
            "\n",
            "\n",
            "Epoch 47\n",
            "-------------------------------\n",
            "Test error: Avg MSE: 0.011536 \n",
            "\n",
            "\n",
            "Epoch 48\n",
            "-------------------------------\n",
            "Test error: Avg MSE: 0.011454 \n",
            "\n",
            "\n",
            "Epoch 49\n",
            "-------------------------------\n",
            "Test error: Avg MSE: 0.011537 \n",
            "\n",
            "\n",
            "Epoch 50\n",
            "-------------------------------\n",
            "Test error: Avg MSE: 0.011299 \n",
            "\n",
            "\n",
            "Epoch 51\n",
            "-------------------------------\n",
            "Test error: Avg MSE: 0.011277 \n",
            "\n",
            "\n",
            "Epoch 52\n",
            "-------------------------------\n",
            "Test error: Avg MSE: 0.011205 \n",
            "\n",
            "\n",
            "Epoch 53\n",
            "-------------------------------\n",
            "Test error: Avg MSE: 0.011141 \n",
            "\n",
            "\n",
            "Epoch 54\n",
            "-------------------------------\n",
            "Test error: Avg MSE: 0.011002 \n",
            "\n",
            "\n",
            "Epoch 55\n",
            "-------------------------------\n",
            "Test error: Avg MSE: 0.010874 \n",
            "\n",
            "\n",
            "Epoch 56\n",
            "-------------------------------\n",
            "Test error: Avg MSE: 0.010891 \n",
            "\n",
            "\n",
            "Epoch 57\n",
            "-------------------------------\n",
            "Test error: Avg MSE: 0.010836 \n",
            "\n",
            "\n",
            "Epoch 58\n",
            "-------------------------------\n",
            "Test error: Avg MSE: 0.010789 \n",
            "\n",
            "\n",
            "Epoch 59\n",
            "-------------------------------\n",
            "Test error: Avg MSE: 0.010714 \n",
            "\n",
            "\n",
            "Epoch 60\n",
            "-------------------------------\n",
            "Test error: Avg MSE: 0.010573 \n",
            "\n",
            "\n",
            "Epoch 61\n",
            "-------------------------------\n",
            "Test error: Avg MSE: 0.010580 \n",
            "\n",
            "\n",
            "Epoch 62\n",
            "-------------------------------\n",
            "Test error: Avg MSE: 0.010452 \n",
            "\n",
            "\n",
            "Epoch 63\n",
            "-------------------------------\n",
            "Test error: Avg MSE: 0.010452 \n",
            "\n",
            "\n",
            "Epoch 64\n",
            "-------------------------------\n",
            "Test error: Avg MSE: 0.010387 \n",
            "\n",
            "\n",
            "Epoch 65\n",
            "-------------------------------\n",
            "Test error: Avg MSE: 0.010279 \n",
            "\n",
            "\n",
            "Epoch 66\n",
            "-------------------------------\n",
            "Test error: Avg MSE: 0.010160 \n",
            "\n",
            "\n",
            "Epoch 67\n",
            "-------------------------------\n",
            "Test error: Avg MSE: 0.010094 \n",
            "\n",
            "\n",
            "Epoch 68\n",
            "-------------------------------\n",
            "Test error: Avg MSE: 0.010054 \n",
            "\n",
            "\n",
            "Epoch 69\n",
            "-------------------------------\n",
            "Test error: Avg MSE: 0.010035 \n",
            "\n",
            "\n",
            "Epoch 70\n",
            "-------------------------------\n",
            "Test error: Avg MSE: 0.010005 \n",
            "\n",
            "\n",
            "Epoch 71\n",
            "-------------------------------\n",
            "Test error: Avg MSE: 0.009927 \n",
            "\n",
            "\n",
            "Epoch 72\n",
            "-------------------------------\n",
            "Test error: Avg MSE: 0.009760 \n",
            "\n",
            "\n",
            "Epoch 73\n",
            "-------------------------------\n",
            "Test error: Avg MSE: 0.009770 \n",
            "\n",
            "\n",
            "Epoch 74\n",
            "-------------------------------\n",
            "Test error: Avg MSE: 0.009642 \n",
            "\n",
            "\n",
            "Epoch 75\n",
            "-------------------------------\n",
            "Test error: Avg MSE: 0.009641 \n",
            "\n",
            "\n",
            "Epoch 76\n",
            "-------------------------------\n",
            "Test error: Avg MSE: 0.009644 \n",
            "\n",
            "\n",
            "Epoch 77\n",
            "-------------------------------\n",
            "Test error: Avg MSE: 0.009504 \n",
            "\n",
            "\n",
            "Epoch 78\n",
            "-------------------------------\n",
            "Test error: Avg MSE: 0.009496 \n",
            "\n",
            "\n",
            "Epoch 79\n",
            "-------------------------------\n",
            "Test error: Avg MSE: 0.009320 \n",
            "\n",
            "\n",
            "Epoch 80\n",
            "-------------------------------\n",
            "Test error: Avg MSE: 0.009264 \n",
            "\n",
            "\n",
            "Epoch 81\n",
            "-------------------------------\n",
            "Test error: Avg MSE: 0.009148 \n",
            "\n",
            "\n",
            "Epoch 82\n",
            "-------------------------------\n",
            "Test error: Avg MSE: 0.009162 \n",
            "\n",
            "\n",
            "Epoch 83\n",
            "-------------------------------\n",
            "Test error: Avg MSE: 0.009057 \n",
            "\n",
            "\n",
            "Epoch 84\n",
            "-------------------------------\n",
            "Test error: Avg MSE: 0.009032 \n",
            "\n",
            "\n",
            "Epoch 85\n",
            "-------------------------------\n",
            "Test error: Avg MSE: 0.008951 \n",
            "\n",
            "\n",
            "Epoch 86\n",
            "-------------------------------\n",
            "Test error: Avg MSE: 0.008884 \n",
            "\n",
            "\n",
            "Epoch 87\n",
            "-------------------------------\n",
            "Test error: Avg MSE: 0.008939 \n",
            "\n",
            "\n",
            "Epoch 88\n",
            "-------------------------------\n",
            "Test error: Avg MSE: 0.008799 \n",
            "\n",
            "\n",
            "Epoch 89\n",
            "-------------------------------\n",
            "Test error: Avg MSE: 0.008742 \n",
            "\n",
            "\n",
            "Epoch 90\n",
            "-------------------------------\n",
            "Test error: Avg MSE: 0.008669 \n",
            "\n",
            "\n",
            "Epoch 91\n",
            "-------------------------------\n",
            "Test error: Avg MSE: 0.008666 \n",
            "\n",
            "\n",
            "Epoch 92\n",
            "-------------------------------\n",
            "Test error: Avg MSE: 0.008528 \n",
            "\n",
            "\n",
            "Epoch 93\n",
            "-------------------------------\n",
            "Test error: Avg MSE: 0.008505 \n",
            "\n",
            "\n",
            "Epoch 94\n",
            "-------------------------------\n",
            "Test error: Avg MSE: 0.008475 \n",
            "\n",
            "\n",
            "Epoch 95\n",
            "-------------------------------\n",
            "Test error: Avg MSE: 0.008299 \n",
            "\n",
            "\n",
            "Epoch 96\n",
            "-------------------------------\n",
            "Test error: Avg MSE: 0.008252 \n",
            "\n",
            "\n",
            "Epoch 97\n",
            "-------------------------------\n",
            "Test error: Avg MSE: 0.008294 \n",
            "\n",
            "\n",
            "Epoch 98\n",
            "-------------------------------\n",
            "Test error: Avg MSE: 0.008130 \n",
            "\n",
            "\n",
            "Epoch 99\n",
            "-------------------------------\n",
            "Test error: Avg MSE: 0.008132 \n",
            "\n",
            "\n",
            "Epoch 100\n",
            "-------------------------------\n",
            "Test error: Avg MSE: 0.008021 \n",
            "\n",
            "\n",
            "Done!\n"
          ],
          "name": "stdout"
        }
      ]
    },
    {
      "cell_type": "markdown",
      "metadata": {
        "id": "V0AbRhTlPi0G"
      },
      "source": [
        "## Visualise Predictions"
      ]
    },
    {
      "cell_type": "code",
      "metadata": {
        "colab": {
          "base_uri": "https://localhost:8080/",
          "height": 268
        },
        "id": "8-I9v9lAPihV",
        "outputId": "e9a755de-0ad5-4210-e140-ad81f05a02d6"
      },
      "source": [
        "pos = np.random.randint(0, X_valid.shape[0])\n",
        "\n",
        "single_X = X_valid[pos: pos + 1]\n",
        "single_y = y_valid[pos: pos + 1]\n",
        "\n",
        "single_pred = model(single_X)\n",
        "\n",
        "input_space = np.linspace(0, n_steps - 1, num=n_steps)\n",
        "prediction_space = np.linspace(n_steps, n_steps + n_predictions, num=n_predictions)\n",
        "\n",
        "plt.plot(input_space, single_X.numpy()[0], linewidth=1.0, color='r', label='Inputs')\n",
        "if n_predictions==1:\n",
        "  print('Difference:\\n\\tActual: {}\\n\\tPredicted: {}'.format(single_y.numpy(), single_pred.detach().numpy()))\n",
        "  \n",
        "  plt.plot(prediction_space, single_y.numpy()[0], linewidth=0, marker='.', color='r', markersize=10, label='Actual Value')\n",
        "  plt.plot(prediction_space, single_pred.detach().numpy()[0], linewidth=0, marker='.', color='b', markersize=10, label='Predicted_value')\n",
        "else:\n",
        "  plt.plot(prediction_space, single_y.numpy()[0], linewidth=5.0, color='r', label='Actual Value')\n",
        "  plt.plot(prediction_space, single_pred.detach().numpy()[0], linewidth=1.0, color='b', label='Predicted Value')\n",
        "plt.legend()\n",
        "plt.ylim(np.min(single_X.numpy()[0]), np.max(single_X.numpy()[0]) + 1)\n",
        "plt.show()"
      ],
      "execution_count": null,
      "outputs": [
        {
          "output_type": "display_data",
          "data": {
            "image/png": "[encoded data removed]",
            "text/plain": [
              "<Figure size 432x288 with 1 Axes>"
            ]
          },
          "metadata": {
            "tags": [],
            "needs_background": "light"
          }
        }
      ]
    },
    {
      "cell_type": "markdown",
      "metadata": {
        "id": "OYW8UjUMDlCD"
      },
      "source": [
        "## Save Model"
      ]
    },
    {
      "cell_type": "code",
      "metadata": {
        "id": "0sGHfzmpDjNq"
      },
      "source": [
        "torch.save(model.state_dict(), 'model.pth')\n",
        "print('Saved PyTorch model state to model.pth')"
      ],
      "execution_count": null,
      "outputs": []
    },
    {
      "cell_type": "markdown",
      "metadata": {
        "id": "AzcNP8JcD7xI"
      },
      "source": [
        "## Load Model"
      ]
    },
    {
      "cell_type": "code",
      "metadata": {
        "id": "_XJRJQesD_ER"
      },
      "source": [
        "model = NeuralNetwork()\n",
        "model.load_state_dict(torch.load('model.pth'))"
      ],
      "execution_count": null,
      "outputs": []
    }
  ]
}